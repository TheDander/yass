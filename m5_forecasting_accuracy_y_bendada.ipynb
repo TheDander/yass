{
  "nbformat": 4,
  "nbformat_minor": 0,
  "metadata": {
    "kernelspec": {
      "language": "python",
      "display_name": "Python 3",
      "name": "python3"
    },
    "language_info": {
      "name": "python",
      "version": "3.7.10",
      "mimetype": "text/x-python",
      "codemirror_mode": {
        "name": "ipython",
        "version": 3
      },
      "pygments_lexer": "ipython3",
      "nbconvert_exporter": "python",
      "file_extension": ".py"
    },
    "colab": {
      "name": "m5-forecasting-accuracy-y-bendada.ipynb",
      "provenance": [],
      "include_colab_link": true
    }
  },
  "cells": [
    {
      "cell_type": "markdown",
      "metadata": {
        "id": "view-in-github",
        "colab_type": "text"
      },
      "source": [
        "<a href=\"https://colab.research.google.com/github/TheDander/yass/blob/main/m5_forecasting_accuracy_y_bendada.ipynb\" target=\"_parent\"><img src=\"https://colab.research.google.com/assets/colab-badge.svg\" alt=\"Open In Colab\"/></a>"
      ]
    },
    {
      "cell_type": "code",
      "metadata": {
        "_uuid": "8f2839f25d086af736a60e9eeb907d3b93b6e0e5",
        "_cell_guid": "b1076dfc-b9ad-4769-8c92-a6c4dae69d19",
        "execution": {
          "iopub.status.busy": "2021-07-01T18:55:59.101926Z",
          "iopub.execute_input": "2021-07-01T18:55:59.102312Z",
          "iopub.status.idle": "2021-07-01T18:55:59.112978Z",
          "shell.execute_reply.started": "2021-07-01T18:55:59.102282Z",
          "shell.execute_reply": "2021-07-01T18:55:59.111929Z"
        },
        "trusted": true,
        "id": "lkqZxSAxc3AM",
        "outputId": "406760c9-8e63-44c4-9890-9737b2b86545"
      },
      "source": [
        "# This Python 3 environment comes with many helpful analytics libraries installed\n",
        "# It is defined by the kaggle/python Docker image: https://github.com/kaggle/docker-python\n",
        "# For example, here's several helpful packages to load\n",
        "\n",
        "import numpy as np # linear algebra\n",
        "import pandas as pd # data processing, CSV file I/O (e.g. pd.read_csv)\n",
        "\n",
        "# Input data files are available in the read-only \"../input/\" directory\n",
        "# For example, running this (by clicking run or pressing Shift+Enter) will list all files under the input directory\n",
        "\n",
        "import os\n",
        "for dirname, _, filenames in os.walk('/kaggle/input'):\n",
        "    for filename in filenames:\n",
        "        print(os.path.join(dirname, filename))\n",
        "\n",
        "# You can write up to 20GB to the current directory (/kaggle/working/) that gets preserved as output when you create a version using \"Save & Run All\" \n",
        "# You can also write temporary files to /kaggle/temp/, but they won't be saved outside of the current session"
      ],
      "execution_count": null,
      "outputs": [
        {
          "output_type": "stream",
          "text": [
            "/kaggle/input/m5-forecasting-accuracy/calendar.csv\n",
            "/kaggle/input/m5-forecasting-accuracy/sample_submission.csv\n",
            "/kaggle/input/m5-forecasting-accuracy/sell_prices.csv\n",
            "/kaggle/input/m5-forecasting-accuracy/sales_train_validation.csv\n",
            "/kaggle/input/m5-forecasting-accuracy/sales_train_evaluation.csv\n"
          ],
          "name": "stdout"
        }
      ]
    },
    {
      "cell_type": "code",
      "metadata": {
        "execution": {
          "iopub.status.busy": "2021-07-01T18:55:59.114661Z",
          "iopub.execute_input": "2021-07-01T18:55:59.114979Z",
          "iopub.status.idle": "2021-07-01T18:55:59.128149Z",
          "shell.execute_reply.started": "2021-07-01T18:55:59.114952Z",
          "shell.execute_reply": "2021-07-01T18:55:59.127035Z"
        },
        "trusted": true,
        "id": "N16xkNFnc3AP"
      },
      "source": [
        "import matplotlib.pyplot as plt\n",
        "from matplotlib.pyplot import figure\n",
        "from tqdm import tqdm"
      ],
      "execution_count": null,
      "outputs": []
    },
    {
      "cell_type": "code",
      "metadata": {
        "execution": {
          "iopub.status.busy": "2021-07-01T18:55:59.129902Z",
          "iopub.execute_input": "2021-07-01T18:55:59.130404Z",
          "iopub.status.idle": "2021-07-01T18:56:03.476097Z",
          "shell.execute_reply.started": "2021-07-01T18:55:59.130375Z",
          "shell.execute_reply": "2021-07-01T18:56:03.475313Z"
        },
        "trusted": true,
        "id": "J99WSjiAc3AS"
      },
      "source": [
        "df = pd.read_csv('../input/m5-forecasting-accuracy/sales_train_validation.csv')"
      ],
      "execution_count": null,
      "outputs": []
    },
    {
      "cell_type": "code",
      "metadata": {
        "execution": {
          "iopub.status.busy": "2021-07-01T18:56:03.477243Z",
          "iopub.execute_input": "2021-07-01T18:56:03.477609Z",
          "iopub.status.idle": "2021-07-01T18:56:06.282516Z",
          "shell.execute_reply.started": "2021-07-01T18:56:03.477574Z",
          "shell.execute_reply": "2021-07-01T18:56:06.281732Z"
        },
        "trusted": true,
        "id": "9Sao4mPqc3AU"
      },
      "source": [
        "price_df = pd.read_csv(\"../input/m5-forecasting-accuracy/sell_prices.csv\")"
      ],
      "execution_count": null,
      "outputs": []
    },
    {
      "cell_type": "code",
      "metadata": {
        "execution": {
          "iopub.status.busy": "2021-07-01T18:56:06.283606Z",
          "iopub.execute_input": "2021-07-01T18:56:06.284039Z",
          "iopub.status.idle": "2021-07-01T18:56:06.304751Z",
          "shell.execute_reply.started": "2021-07-01T18:56:06.284000Z",
          "shell.execute_reply": "2021-07-01T18:56:06.303868Z"
        },
        "trusted": true,
        "id": "cdTFNvPec3AW",
        "outputId": "bb4483cd-4038-4f4e-9de1-5a87803ca7cf"
      },
      "source": [
        "df.head()"
      ],
      "execution_count": null,
      "outputs": [
        {
          "output_type": "execute_result",
          "data": {
            "text/plain": [
              "                              id        item_id    dept_id   cat_id store_id  \\\n",
              "0  HOBBIES_1_001_CA_1_validation  HOBBIES_1_001  HOBBIES_1  HOBBIES     CA_1   \n",
              "1  HOBBIES_1_002_CA_1_validation  HOBBIES_1_002  HOBBIES_1  HOBBIES     CA_1   \n",
              "2  HOBBIES_1_003_CA_1_validation  HOBBIES_1_003  HOBBIES_1  HOBBIES     CA_1   \n",
              "3  HOBBIES_1_004_CA_1_validation  HOBBIES_1_004  HOBBIES_1  HOBBIES     CA_1   \n",
              "4  HOBBIES_1_005_CA_1_validation  HOBBIES_1_005  HOBBIES_1  HOBBIES     CA_1   \n",
              "\n",
              "  state_id  d_1  d_2  d_3  d_4  ...  d_1904  d_1905  d_1906  d_1907  d_1908  \\\n",
              "0       CA    0    0    0    0  ...       1       3       0       1       1   \n",
              "1       CA    0    0    0    0  ...       0       0       0       0       0   \n",
              "2       CA    0    0    0    0  ...       2       1       2       1       1   \n",
              "3       CA    0    0    0    0  ...       1       0       5       4       1   \n",
              "4       CA    0    0    0    0  ...       2       1       1       0       1   \n",
              "\n",
              "   d_1909  d_1910  d_1911  d_1912  d_1913  \n",
              "0       1       3       0       1       1  \n",
              "1       1       0       0       0       0  \n",
              "2       1       0       1       1       1  \n",
              "3       0       1       3       7       2  \n",
              "4       1       2       2       2       4  \n",
              "\n",
              "[5 rows x 1919 columns]"
            ],
            "text/html": [
              "<div>\n",
              "<style scoped>\n",
              "    .dataframe tbody tr th:only-of-type {\n",
              "        vertical-align: middle;\n",
              "    }\n",
              "\n",
              "    .dataframe tbody tr th {\n",
              "        vertical-align: top;\n",
              "    }\n",
              "\n",
              "    .dataframe thead th {\n",
              "        text-align: right;\n",
              "    }\n",
              "</style>\n",
              "<table border=\"1\" class=\"dataframe\">\n",
              "  <thead>\n",
              "    <tr style=\"text-align: right;\">\n",
              "      <th></th>\n",
              "      <th>id</th>\n",
              "      <th>item_id</th>\n",
              "      <th>dept_id</th>\n",
              "      <th>cat_id</th>\n",
              "      <th>store_id</th>\n",
              "      <th>state_id</th>\n",
              "      <th>d_1</th>\n",
              "      <th>d_2</th>\n",
              "      <th>d_3</th>\n",
              "      <th>d_4</th>\n",
              "      <th>...</th>\n",
              "      <th>d_1904</th>\n",
              "      <th>d_1905</th>\n",
              "      <th>d_1906</th>\n",
              "      <th>d_1907</th>\n",
              "      <th>d_1908</th>\n",
              "      <th>d_1909</th>\n",
              "      <th>d_1910</th>\n",
              "      <th>d_1911</th>\n",
              "      <th>d_1912</th>\n",
              "      <th>d_1913</th>\n",
              "    </tr>\n",
              "  </thead>\n",
              "  <tbody>\n",
              "    <tr>\n",
              "      <th>0</th>\n",
              "      <td>HOBBIES_1_001_CA_1_validation</td>\n",
              "      <td>HOBBIES_1_001</td>\n",
              "      <td>HOBBIES_1</td>\n",
              "      <td>HOBBIES</td>\n",
              "      <td>CA_1</td>\n",
              "      <td>CA</td>\n",
              "      <td>0</td>\n",
              "      <td>0</td>\n",
              "      <td>0</td>\n",
              "      <td>0</td>\n",
              "      <td>...</td>\n",
              "      <td>1</td>\n",
              "      <td>3</td>\n",
              "      <td>0</td>\n",
              "      <td>1</td>\n",
              "      <td>1</td>\n",
              "      <td>1</td>\n",
              "      <td>3</td>\n",
              "      <td>0</td>\n",
              "      <td>1</td>\n",
              "      <td>1</td>\n",
              "    </tr>\n",
              "    <tr>\n",
              "      <th>1</th>\n",
              "      <td>HOBBIES_1_002_CA_1_validation</td>\n",
              "      <td>HOBBIES_1_002</td>\n",
              "      <td>HOBBIES_1</td>\n",
              "      <td>HOBBIES</td>\n",
              "      <td>CA_1</td>\n",
              "      <td>CA</td>\n",
              "      <td>0</td>\n",
              "      <td>0</td>\n",
              "      <td>0</td>\n",
              "      <td>0</td>\n",
              "      <td>...</td>\n",
              "      <td>0</td>\n",
              "      <td>0</td>\n",
              "      <td>0</td>\n",
              "      <td>0</td>\n",
              "      <td>0</td>\n",
              "      <td>1</td>\n",
              "      <td>0</td>\n",
              "      <td>0</td>\n",
              "      <td>0</td>\n",
              "      <td>0</td>\n",
              "    </tr>\n",
              "    <tr>\n",
              "      <th>2</th>\n",
              "      <td>HOBBIES_1_003_CA_1_validation</td>\n",
              "      <td>HOBBIES_1_003</td>\n",
              "      <td>HOBBIES_1</td>\n",
              "      <td>HOBBIES</td>\n",
              "      <td>CA_1</td>\n",
              "      <td>CA</td>\n",
              "      <td>0</td>\n",
              "      <td>0</td>\n",
              "      <td>0</td>\n",
              "      <td>0</td>\n",
              "      <td>...</td>\n",
              "      <td>2</td>\n",
              "      <td>1</td>\n",
              "      <td>2</td>\n",
              "      <td>1</td>\n",
              "      <td>1</td>\n",
              "      <td>1</td>\n",
              "      <td>0</td>\n",
              "      <td>1</td>\n",
              "      <td>1</td>\n",
              "      <td>1</td>\n",
              "    </tr>\n",
              "    <tr>\n",
              "      <th>3</th>\n",
              "      <td>HOBBIES_1_004_CA_1_validation</td>\n",
              "      <td>HOBBIES_1_004</td>\n",
              "      <td>HOBBIES_1</td>\n",
              "      <td>HOBBIES</td>\n",
              "      <td>CA_1</td>\n",
              "      <td>CA</td>\n",
              "      <td>0</td>\n",
              "      <td>0</td>\n",
              "      <td>0</td>\n",
              "      <td>0</td>\n",
              "      <td>...</td>\n",
              "      <td>1</td>\n",
              "      <td>0</td>\n",
              "      <td>5</td>\n",
              "      <td>4</td>\n",
              "      <td>1</td>\n",
              "      <td>0</td>\n",
              "      <td>1</td>\n",
              "      <td>3</td>\n",
              "      <td>7</td>\n",
              "      <td>2</td>\n",
              "    </tr>\n",
              "    <tr>\n",
              "      <th>4</th>\n",
              "      <td>HOBBIES_1_005_CA_1_validation</td>\n",
              "      <td>HOBBIES_1_005</td>\n",
              "      <td>HOBBIES_1</td>\n",
              "      <td>HOBBIES</td>\n",
              "      <td>CA_1</td>\n",
              "      <td>CA</td>\n",
              "      <td>0</td>\n",
              "      <td>0</td>\n",
              "      <td>0</td>\n",
              "      <td>0</td>\n",
              "      <td>...</td>\n",
              "      <td>2</td>\n",
              "      <td>1</td>\n",
              "      <td>1</td>\n",
              "      <td>0</td>\n",
              "      <td>1</td>\n",
              "      <td>1</td>\n",
              "      <td>2</td>\n",
              "      <td>2</td>\n",
              "      <td>2</td>\n",
              "      <td>4</td>\n",
              "    </tr>\n",
              "  </tbody>\n",
              "</table>\n",
              "<p>5 rows × 1919 columns</p>\n",
              "</div>"
            ]
          },
          "metadata": {
            "tags": []
          },
          "execution_count": 133
        }
      ]
    },
    {
      "cell_type": "code",
      "metadata": {
        "execution": {
          "iopub.status.busy": "2021-07-01T18:56:06.306974Z",
          "iopub.execute_input": "2021-07-01T18:56:06.307372Z",
          "iopub.status.idle": "2021-07-01T18:56:06.317674Z",
          "shell.execute_reply.started": "2021-07-01T18:56:06.307333Z",
          "shell.execute_reply": "2021-07-01T18:56:06.316746Z"
        },
        "trusted": true,
        "id": "nydpc_9zc3AY",
        "outputId": "54c18e91-eb21-441b-c565-5db35ba0cab6"
      },
      "source": [
        "price_df.head()"
      ],
      "execution_count": null,
      "outputs": [
        {
          "output_type": "execute_result",
          "data": {
            "text/plain": [
              "  store_id        item_id  wm_yr_wk  sell_price\n",
              "0     CA_1  HOBBIES_1_001     11325        9.58\n",
              "1     CA_1  HOBBIES_1_001     11326        9.58\n",
              "2     CA_1  HOBBIES_1_001     11327        8.26\n",
              "3     CA_1  HOBBIES_1_001     11328        8.26\n",
              "4     CA_1  HOBBIES_1_001     11329        8.26"
            ],
            "text/html": [
              "<div>\n",
              "<style scoped>\n",
              "    .dataframe tbody tr th:only-of-type {\n",
              "        vertical-align: middle;\n",
              "    }\n",
              "\n",
              "    .dataframe tbody tr th {\n",
              "        vertical-align: top;\n",
              "    }\n",
              "\n",
              "    .dataframe thead th {\n",
              "        text-align: right;\n",
              "    }\n",
              "</style>\n",
              "<table border=\"1\" class=\"dataframe\">\n",
              "  <thead>\n",
              "    <tr style=\"text-align: right;\">\n",
              "      <th></th>\n",
              "      <th>store_id</th>\n",
              "      <th>item_id</th>\n",
              "      <th>wm_yr_wk</th>\n",
              "      <th>sell_price</th>\n",
              "    </tr>\n",
              "  </thead>\n",
              "  <tbody>\n",
              "    <tr>\n",
              "      <th>0</th>\n",
              "      <td>CA_1</td>\n",
              "      <td>HOBBIES_1_001</td>\n",
              "      <td>11325</td>\n",
              "      <td>9.58</td>\n",
              "    </tr>\n",
              "    <tr>\n",
              "      <th>1</th>\n",
              "      <td>CA_1</td>\n",
              "      <td>HOBBIES_1_001</td>\n",
              "      <td>11326</td>\n",
              "      <td>9.58</td>\n",
              "    </tr>\n",
              "    <tr>\n",
              "      <th>2</th>\n",
              "      <td>CA_1</td>\n",
              "      <td>HOBBIES_1_001</td>\n",
              "      <td>11327</td>\n",
              "      <td>8.26</td>\n",
              "    </tr>\n",
              "    <tr>\n",
              "      <th>3</th>\n",
              "      <td>CA_1</td>\n",
              "      <td>HOBBIES_1_001</td>\n",
              "      <td>11328</td>\n",
              "      <td>8.26</td>\n",
              "    </tr>\n",
              "    <tr>\n",
              "      <th>4</th>\n",
              "      <td>CA_1</td>\n",
              "      <td>HOBBIES_1_001</td>\n",
              "      <td>11329</td>\n",
              "      <td>8.26</td>\n",
              "    </tr>\n",
              "  </tbody>\n",
              "</table>\n",
              "</div>"
            ]
          },
          "metadata": {
            "tags": []
          },
          "execution_count": 134
        }
      ]
    },
    {
      "cell_type": "code",
      "metadata": {
        "execution": {
          "iopub.status.busy": "2021-07-01T18:56:06.319675Z",
          "iopub.execute_input": "2021-07-01T18:56:06.320070Z",
          "iopub.status.idle": "2021-07-01T18:56:06.336663Z",
          "shell.execute_reply.started": "2021-07-01T18:56:06.320030Z",
          "shell.execute_reply": "2021-07-01T18:56:06.335885Z"
        },
        "trusted": true,
        "id": "deknkp3gc3Aa"
      },
      "source": [
        "cal_df = pd.read_csv(\"../input/m5-forecasting-accuracy/calendar.csv\")"
      ],
      "execution_count": null,
      "outputs": []
    },
    {
      "cell_type": "code",
      "metadata": {
        "execution": {
          "iopub.status.busy": "2021-07-01T18:56:06.337926Z",
          "iopub.execute_input": "2021-07-01T18:56:06.338184Z",
          "iopub.status.idle": "2021-07-01T18:56:06.352976Z",
          "shell.execute_reply.started": "2021-07-01T18:56:06.338160Z",
          "shell.execute_reply": "2021-07-01T18:56:06.352146Z"
        },
        "trusted": true,
        "id": "rRdmJRX4c3Ab",
        "outputId": "0b812284-3c1b-40ea-f68a-fec4b0dde527"
      },
      "source": [
        "cal_df.head()"
      ],
      "execution_count": null,
      "outputs": [
        {
          "output_type": "execute_result",
          "data": {
            "text/plain": [
              "         date  wm_yr_wk    weekday  wday  month  year    d event_name_1  \\\n",
              "0  2011-01-29     11101   Saturday     1      1  2011  d_1          NaN   \n",
              "1  2011-01-30     11101     Sunday     2      1  2011  d_2          NaN   \n",
              "2  2011-01-31     11101     Monday     3      1  2011  d_3          NaN   \n",
              "3  2011-02-01     11101    Tuesday     4      2  2011  d_4          NaN   \n",
              "4  2011-02-02     11101  Wednesday     5      2  2011  d_5          NaN   \n",
              "\n",
              "  event_type_1 event_name_2 event_type_2  snap_CA  snap_TX  snap_WI  \n",
              "0          NaN          NaN          NaN        0        0        0  \n",
              "1          NaN          NaN          NaN        0        0        0  \n",
              "2          NaN          NaN          NaN        0        0        0  \n",
              "3          NaN          NaN          NaN        1        1        0  \n",
              "4          NaN          NaN          NaN        1        0        1  "
            ],
            "text/html": [
              "<div>\n",
              "<style scoped>\n",
              "    .dataframe tbody tr th:only-of-type {\n",
              "        vertical-align: middle;\n",
              "    }\n",
              "\n",
              "    .dataframe tbody tr th {\n",
              "        vertical-align: top;\n",
              "    }\n",
              "\n",
              "    .dataframe thead th {\n",
              "        text-align: right;\n",
              "    }\n",
              "</style>\n",
              "<table border=\"1\" class=\"dataframe\">\n",
              "  <thead>\n",
              "    <tr style=\"text-align: right;\">\n",
              "      <th></th>\n",
              "      <th>date</th>\n",
              "      <th>wm_yr_wk</th>\n",
              "      <th>weekday</th>\n",
              "      <th>wday</th>\n",
              "      <th>month</th>\n",
              "      <th>year</th>\n",
              "      <th>d</th>\n",
              "      <th>event_name_1</th>\n",
              "      <th>event_type_1</th>\n",
              "      <th>event_name_2</th>\n",
              "      <th>event_type_2</th>\n",
              "      <th>snap_CA</th>\n",
              "      <th>snap_TX</th>\n",
              "      <th>snap_WI</th>\n",
              "    </tr>\n",
              "  </thead>\n",
              "  <tbody>\n",
              "    <tr>\n",
              "      <th>0</th>\n",
              "      <td>2011-01-29</td>\n",
              "      <td>11101</td>\n",
              "      <td>Saturday</td>\n",
              "      <td>1</td>\n",
              "      <td>1</td>\n",
              "      <td>2011</td>\n",
              "      <td>d_1</td>\n",
              "      <td>NaN</td>\n",
              "      <td>NaN</td>\n",
              "      <td>NaN</td>\n",
              "      <td>NaN</td>\n",
              "      <td>0</td>\n",
              "      <td>0</td>\n",
              "      <td>0</td>\n",
              "    </tr>\n",
              "    <tr>\n",
              "      <th>1</th>\n",
              "      <td>2011-01-30</td>\n",
              "      <td>11101</td>\n",
              "      <td>Sunday</td>\n",
              "      <td>2</td>\n",
              "      <td>1</td>\n",
              "      <td>2011</td>\n",
              "      <td>d_2</td>\n",
              "      <td>NaN</td>\n",
              "      <td>NaN</td>\n",
              "      <td>NaN</td>\n",
              "      <td>NaN</td>\n",
              "      <td>0</td>\n",
              "      <td>0</td>\n",
              "      <td>0</td>\n",
              "    </tr>\n",
              "    <tr>\n",
              "      <th>2</th>\n",
              "      <td>2011-01-31</td>\n",
              "      <td>11101</td>\n",
              "      <td>Monday</td>\n",
              "      <td>3</td>\n",
              "      <td>1</td>\n",
              "      <td>2011</td>\n",
              "      <td>d_3</td>\n",
              "      <td>NaN</td>\n",
              "      <td>NaN</td>\n",
              "      <td>NaN</td>\n",
              "      <td>NaN</td>\n",
              "      <td>0</td>\n",
              "      <td>0</td>\n",
              "      <td>0</td>\n",
              "    </tr>\n",
              "    <tr>\n",
              "      <th>3</th>\n",
              "      <td>2011-02-01</td>\n",
              "      <td>11101</td>\n",
              "      <td>Tuesday</td>\n",
              "      <td>4</td>\n",
              "      <td>2</td>\n",
              "      <td>2011</td>\n",
              "      <td>d_4</td>\n",
              "      <td>NaN</td>\n",
              "      <td>NaN</td>\n",
              "      <td>NaN</td>\n",
              "      <td>NaN</td>\n",
              "      <td>1</td>\n",
              "      <td>1</td>\n",
              "      <td>0</td>\n",
              "    </tr>\n",
              "    <tr>\n",
              "      <th>4</th>\n",
              "      <td>2011-02-02</td>\n",
              "      <td>11101</td>\n",
              "      <td>Wednesday</td>\n",
              "      <td>5</td>\n",
              "      <td>2</td>\n",
              "      <td>2011</td>\n",
              "      <td>d_5</td>\n",
              "      <td>NaN</td>\n",
              "      <td>NaN</td>\n",
              "      <td>NaN</td>\n",
              "      <td>NaN</td>\n",
              "      <td>1</td>\n",
              "      <td>0</td>\n",
              "      <td>1</td>\n",
              "    </tr>\n",
              "  </tbody>\n",
              "</table>\n",
              "</div>"
            ]
          },
          "metadata": {
            "tags": []
          },
          "execution_count": 136
        }
      ]
    },
    {
      "cell_type": "code",
      "metadata": {
        "execution": {
          "iopub.status.busy": "2021-07-01T18:56:06.354148Z",
          "iopub.execute_input": "2021-07-01T18:56:06.354396Z",
          "iopub.status.idle": "2021-07-01T18:56:08.374582Z",
          "shell.execute_reply.started": "2021-07-01T18:56:06.354372Z",
          "shell.execute_reply": "2021-07-01T18:56:08.373802Z"
        },
        "trusted": true,
        "id": "NHsCIiRwc3Ae"
      },
      "source": [
        "cal_df[\"d\"]=cal_df[\"d\"].apply(lambda x: int(x.split(\"_\")[1]))\n",
        "price_df[\"id\"] = price_df[\"item_id\"] + \"_\" + price_df[\"store_id\"] + \"_validation\""
      ],
      "execution_count": null,
      "outputs": []
    },
    {
      "cell_type": "code",
      "metadata": {
        "execution": {
          "iopub.status.busy": "2021-07-01T18:56:08.375696Z",
          "iopub.execute_input": "2021-07-01T18:56:08.375962Z",
          "iopub.status.idle": "2021-07-01T18:56:19.813849Z",
          "shell.execute_reply.started": "2021-07-01T18:56:08.375938Z",
          "shell.execute_reply": "2021-07-01T18:56:19.813188Z"
        },
        "trusted": true,
        "id": "AO3V-eapc3Ag",
        "outputId": "f6fdadd5-965e-4922-8edf-81a7b134e614"
      },
      "source": [
        "for day in tqdm(range(1858, 1886)):\n",
        "    wk_id = list(cal_df[cal_df[\"d\"]==day][\"wm_yr_wk\"])[0]\n",
        "    wk_price_df = price_df[price_df[\"wm_yr_wk\"]==wk_id]\n",
        "    df = df.merge(wk_price_df[[\"sell_price\", \"id\"]], on=[\"id\"], how='inner')\n",
        "    df[\"unit_sales_\" + str(day)] = df[\"sell_price\"] * df[\"d_\" + str(day)]\n",
        "    df.drop(columns=[\"sell_price\"], inplace=True)\n",
        "\n"
      ],
      "execution_count": null,
      "outputs": [
        {
          "output_type": "stream",
          "text": [
            "100%|██████████| 28/28 [00:11<00:00,  2.45it/s]\n"
          ],
          "name": "stderr"
        }
      ]
    },
    {
      "cell_type": "code",
      "metadata": {
        "execution": {
          "iopub.status.busy": "2021-07-01T18:56:19.814963Z",
          "iopub.execute_input": "2021-07-01T18:56:19.815443Z",
          "iopub.status.idle": "2021-07-01T18:56:19.825700Z",
          "shell.execute_reply.started": "2021-07-01T18:56:19.815413Z",
          "shell.execute_reply": "2021-07-01T18:56:19.825014Z"
        },
        "trusted": true,
        "id": "Z2gDX2WYc3Ah"
      },
      "source": [
        "df[\"dollar_sales\"] = df[[c for c in df.columns if c.find(\"unit_sales\")==0]].sum(axis=1)"
      ],
      "execution_count": null,
      "outputs": []
    },
    {
      "cell_type": "code",
      "metadata": {
        "execution": {
          "iopub.status.busy": "2021-07-01T18:56:19.826852Z",
          "iopub.execute_input": "2021-07-01T18:56:19.827319Z",
          "iopub.status.idle": "2021-07-01T18:56:19.981125Z",
          "shell.execute_reply.started": "2021-07-01T18:56:19.827291Z",
          "shell.execute_reply": "2021-07-01T18:56:19.980329Z"
        },
        "trusted": true,
        "id": "gJK6rbaZc3Aj"
      },
      "source": [
        "df.drop(columns=[c for c in df.columns if c.find(\"unit_sales\")==0], inplace=True)"
      ],
      "execution_count": null,
      "outputs": []
    },
    {
      "cell_type": "code",
      "metadata": {
        "execution": {
          "iopub.status.busy": "2021-07-01T18:56:19.982259Z",
          "iopub.execute_input": "2021-07-01T18:56:19.982732Z",
          "iopub.status.idle": "2021-07-01T18:56:19.987861Z",
          "shell.execute_reply.started": "2021-07-01T18:56:19.982704Z",
          "shell.execute_reply": "2021-07-01T18:56:19.987217Z"
        },
        "trusted": true,
        "id": "CgHVuiPuc3Aj"
      },
      "source": [
        "df[\"weight\"] = df[\"dollar_sales\"] / df[\"dollar_sales\"].sum()"
      ],
      "execution_count": null,
      "outputs": []
    },
    {
      "cell_type": "code",
      "metadata": {
        "execution": {
          "iopub.status.busy": "2021-07-01T18:56:19.989940Z",
          "iopub.execute_input": "2021-07-01T18:56:19.990350Z",
          "iopub.status.idle": "2021-07-01T18:56:20.146623Z",
          "shell.execute_reply.started": "2021-07-01T18:56:19.990323Z",
          "shell.execute_reply": "2021-07-01T18:56:20.145917Z"
        },
        "trusted": true,
        "id": "ZtSP4K_Bc3Al"
      },
      "source": [
        "df.drop(columns=[\"dollar_sales\"], inplace=True)"
      ],
      "execution_count": null,
      "outputs": []
    },
    {
      "cell_type": "code",
      "metadata": {
        "execution": {
          "iopub.status.busy": "2021-07-01T18:56:20.147902Z",
          "iopub.execute_input": "2021-07-01T18:56:20.148264Z",
          "iopub.status.idle": "2021-07-01T18:56:20.169164Z",
          "shell.execute_reply.started": "2021-07-01T18:56:20.148238Z",
          "shell.execute_reply": "2021-07-01T18:56:20.168275Z"
        },
        "trusted": true,
        "id": "-VP0PoMMc3Am"
      },
      "source": [
        "for d in range(1886, 1914):\n",
        "    df[\"F_\" + str(d)] = 0"
      ],
      "execution_count": null,
      "outputs": []
    },
    {
      "cell_type": "code",
      "metadata": {
        "execution": {
          "iopub.status.busy": "2021-07-01T18:56:20.170237Z",
          "iopub.execute_input": "2021-07-01T18:56:20.170492Z",
          "iopub.status.idle": "2021-07-01T18:56:20.736963Z",
          "shell.execute_reply.started": "2021-07-01T18:56:20.170466Z",
          "shell.execute_reply": "2021-07-01T18:56:20.735989Z"
        },
        "trusted": true,
        "id": "dp-YUq6oc3Am"
      },
      "source": [
        "agg_df = pd.DataFrame(df[[c for c in df.columns if c.find(\"d_\") == 0 or c.find(\"F_\") == 0]].sum()).transpose()\n",
        "agg_df[\"level\"] = 1\n",
        "agg_df[\"weight\"] = 1/12\n",
        "column_order = agg_df.columns\n",
        "\n"
      ],
      "execution_count": null,
      "outputs": []
    },
    {
      "cell_type": "code",
      "metadata": {
        "execution": {
          "iopub.status.busy": "2021-07-01T18:56:20.738088Z",
          "iopub.execute_input": "2021-07-01T18:56:20.738354Z",
          "iopub.status.idle": "2021-07-01T18:56:20.753437Z",
          "shell.execute_reply.started": "2021-07-01T18:56:20.738330Z",
          "shell.execute_reply": "2021-07-01T18:56:20.752860Z"
        },
        "trusted": true,
        "id": "zV3v-GXQc3An",
        "outputId": "225258ea-27ff-4623-f617-9607206550a0"
      },
      "source": [
        "agg_df"
      ],
      "execution_count": null,
      "outputs": [
        {
          "output_type": "execute_result",
          "data": {
            "text/plain": [
              "     d_1    d_2    d_3    d_4    d_5    d_6    d_7    d_8    d_9   d_10  ...  \\\n",
              "0  32631  31749  23783  25412  19146  29211  28010  37932  32736  25572  ...   \n",
              "\n",
              "   F_1906  F_1907  F_1908  F_1909  F_1910  F_1911  F_1912  F_1913  level  \\\n",
              "0       0       0       0       0       0       0       0       0      1   \n",
              "\n",
              "     weight  \n",
              "0  0.083333  \n",
              "\n",
              "[1 rows x 1943 columns]"
            ],
            "text/html": [
              "<div>\n",
              "<style scoped>\n",
              "    .dataframe tbody tr th:only-of-type {\n",
              "        vertical-align: middle;\n",
              "    }\n",
              "\n",
              "    .dataframe tbody tr th {\n",
              "        vertical-align: top;\n",
              "    }\n",
              "\n",
              "    .dataframe thead th {\n",
              "        text-align: right;\n",
              "    }\n",
              "</style>\n",
              "<table border=\"1\" class=\"dataframe\">\n",
              "  <thead>\n",
              "    <tr style=\"text-align: right;\">\n",
              "      <th></th>\n",
              "      <th>d_1</th>\n",
              "      <th>d_2</th>\n",
              "      <th>d_3</th>\n",
              "      <th>d_4</th>\n",
              "      <th>d_5</th>\n",
              "      <th>d_6</th>\n",
              "      <th>d_7</th>\n",
              "      <th>d_8</th>\n",
              "      <th>d_9</th>\n",
              "      <th>d_10</th>\n",
              "      <th>...</th>\n",
              "      <th>F_1906</th>\n",
              "      <th>F_1907</th>\n",
              "      <th>F_1908</th>\n",
              "      <th>F_1909</th>\n",
              "      <th>F_1910</th>\n",
              "      <th>F_1911</th>\n",
              "      <th>F_1912</th>\n",
              "      <th>F_1913</th>\n",
              "      <th>level</th>\n",
              "      <th>weight</th>\n",
              "    </tr>\n",
              "  </thead>\n",
              "  <tbody>\n",
              "    <tr>\n",
              "      <th>0</th>\n",
              "      <td>32631</td>\n",
              "      <td>31749</td>\n",
              "      <td>23783</td>\n",
              "      <td>25412</td>\n",
              "      <td>19146</td>\n",
              "      <td>29211</td>\n",
              "      <td>28010</td>\n",
              "      <td>37932</td>\n",
              "      <td>32736</td>\n",
              "      <td>25572</td>\n",
              "      <td>...</td>\n",
              "      <td>0</td>\n",
              "      <td>0</td>\n",
              "      <td>0</td>\n",
              "      <td>0</td>\n",
              "      <td>0</td>\n",
              "      <td>0</td>\n",
              "      <td>0</td>\n",
              "      <td>0</td>\n",
              "      <td>1</td>\n",
              "      <td>0.083333</td>\n",
              "    </tr>\n",
              "  </tbody>\n",
              "</table>\n",
              "<p>1 rows × 1943 columns</p>\n",
              "</div>"
            ]
          },
          "metadata": {
            "tags": []
          },
          "execution_count": 145
        }
      ]
    },
    {
      "cell_type": "code",
      "metadata": {
        "execution": {
          "iopub.status.busy": "2021-07-01T18:56:20.754415Z",
          "iopub.execute_input": "2021-07-01T18:56:20.754815Z",
          "iopub.status.idle": "2021-07-01T18:56:20.766098Z",
          "shell.execute_reply.started": "2021-07-01T18:56:20.754787Z",
          "shell.execute_reply": "2021-07-01T18:56:20.765254Z"
        },
        "trusted": true,
        "id": "_7Ro2RHec3Aq"
      },
      "source": [
        "level_groupings = {2: [\"state_id\"], 3: [\"store_id\"], 4: [\"cat_id\"], 5: [\"dept_id\"], \n",
        "              6: [\"state_id\", \"cat_id\"], 7: [\"state_id\", \"dept_id\"], 8: [\"store_id\", \"cat_id\"], 9: [\"store_id\", \"dept_id\"],\n",
        "              10: [\"item_id\"], 11: [\"item_id\", \"state_id\"]}"
      ],
      "execution_count": null,
      "outputs": []
    },
    {
      "cell_type": "code",
      "metadata": {
        "execution": {
          "iopub.status.busy": "2021-07-01T18:56:20.767626Z",
          "iopub.execute_input": "2021-07-01T18:56:20.768033Z",
          "iopub.status.idle": "2021-07-01T18:56:22.214708Z",
          "shell.execute_reply.started": "2021-07-01T18:56:20.767993Z",
          "shell.execute_reply": "2021-07-01T18:56:22.213651Z"
        },
        "trusted": true,
        "id": "nAQTkoGwc3Ar",
        "outputId": "abc7004b-08fa-4e6f-c142-80457313a2da"
      },
      "source": [
        "df.groupby(by=level_groupings[11]).sum()"
      ],
      "execution_count": null,
      "outputs": [
        {
          "output_type": "execute_result",
          "data": {
            "text/plain": [
              "                          d_1  d_2  d_3  d_4  d_5  d_6  d_7  d_8  d_9  d_10  \\\n",
              "item_id         state_id                                                      \n",
              "FOODS_1_001     CA          6    3    2    3    7    5    8    3    5     2   \n",
              "                TX          0    1    2    2    0    4    0    0    4     3   \n",
              "                WI          0    2    0    1    0    9    2    1    2     5   \n",
              "FOODS_1_002     CA          3    3    4    4    3    3    0    2    1     1   \n",
              "                TX          0    0    2    0    0    0    0    1    0     0   \n",
              "...                       ...  ...  ...  ...  ...  ...  ...  ...  ...   ...   \n",
              "HOUSEHOLD_2_515 TX          0    0    0    0    0    0    0    0    0     0   \n",
              "                WI          0    0    0    0    0    0    0    0    0     0   \n",
              "HOUSEHOLD_2_516 CA          0    2    0    1    1    1    0    2    1     2   \n",
              "                TX          2    1    0    0    0    0    1    1    0     0   \n",
              "                WI          0    1    0    2    0    1    1    1    0     0   \n",
              "\n",
              "                          ...  F_1904  F_1905  F_1906  F_1907  F_1908  F_1909  \\\n",
              "item_id         state_id  ...                                                   \n",
              "FOODS_1_001     CA        ...       0       0       0       0       0       0   \n",
              "                TX        ...       0       0       0       0       0       0   \n",
              "                WI        ...       0       0       0       0       0       0   \n",
              "FOODS_1_002     CA        ...       0       0       0       0       0       0   \n",
              "                TX        ...       0       0       0       0       0       0   \n",
              "...                       ...     ...     ...     ...     ...     ...     ...   \n",
              "HOUSEHOLD_2_515 TX        ...       0       0       0       0       0       0   \n",
              "                WI        ...       0       0       0       0       0       0   \n",
              "HOUSEHOLD_2_516 CA        ...       0       0       0       0       0       0   \n",
              "                TX        ...       0       0       0       0       0       0   \n",
              "                WI        ...       0       0       0       0       0       0   \n",
              "\n",
              "                          F_1910  F_1911  F_1912  F_1913  \n",
              "item_id         state_id                                  \n",
              "FOODS_1_001     CA             0       0       0       0  \n",
              "                TX             0       0       0       0  \n",
              "                WI             0       0       0       0  \n",
              "FOODS_1_002     CA             0       0       0       0  \n",
              "                TX             0       0       0       0  \n",
              "...                          ...     ...     ...     ...  \n",
              "HOUSEHOLD_2_515 TX             0       0       0       0  \n",
              "                WI             0       0       0       0  \n",
              "HOUSEHOLD_2_516 CA             0       0       0       0  \n",
              "                TX             0       0       0       0  \n",
              "                WI             0       0       0       0  \n",
              "\n",
              "[9147 rows x 1942 columns]"
            ],
            "text/html": [
              "<div>\n",
              "<style scoped>\n",
              "    .dataframe tbody tr th:only-of-type {\n",
              "        vertical-align: middle;\n",
              "    }\n",
              "\n",
              "    .dataframe tbody tr th {\n",
              "        vertical-align: top;\n",
              "    }\n",
              "\n",
              "    .dataframe thead th {\n",
              "        text-align: right;\n",
              "    }\n",
              "</style>\n",
              "<table border=\"1\" class=\"dataframe\">\n",
              "  <thead>\n",
              "    <tr style=\"text-align: right;\">\n",
              "      <th></th>\n",
              "      <th></th>\n",
              "      <th>d_1</th>\n",
              "      <th>d_2</th>\n",
              "      <th>d_3</th>\n",
              "      <th>d_4</th>\n",
              "      <th>d_5</th>\n",
              "      <th>d_6</th>\n",
              "      <th>d_7</th>\n",
              "      <th>d_8</th>\n",
              "      <th>d_9</th>\n",
              "      <th>d_10</th>\n",
              "      <th>...</th>\n",
              "      <th>F_1904</th>\n",
              "      <th>F_1905</th>\n",
              "      <th>F_1906</th>\n",
              "      <th>F_1907</th>\n",
              "      <th>F_1908</th>\n",
              "      <th>F_1909</th>\n",
              "      <th>F_1910</th>\n",
              "      <th>F_1911</th>\n",
              "      <th>F_1912</th>\n",
              "      <th>F_1913</th>\n",
              "    </tr>\n",
              "    <tr>\n",
              "      <th>item_id</th>\n",
              "      <th>state_id</th>\n",
              "      <th></th>\n",
              "      <th></th>\n",
              "      <th></th>\n",
              "      <th></th>\n",
              "      <th></th>\n",
              "      <th></th>\n",
              "      <th></th>\n",
              "      <th></th>\n",
              "      <th></th>\n",
              "      <th></th>\n",
              "      <th></th>\n",
              "      <th></th>\n",
              "      <th></th>\n",
              "      <th></th>\n",
              "      <th></th>\n",
              "      <th></th>\n",
              "      <th></th>\n",
              "      <th></th>\n",
              "      <th></th>\n",
              "      <th></th>\n",
              "      <th></th>\n",
              "    </tr>\n",
              "  </thead>\n",
              "  <tbody>\n",
              "    <tr>\n",
              "      <th rowspan=\"3\" valign=\"top\">FOODS_1_001</th>\n",
              "      <th>CA</th>\n",
              "      <td>6</td>\n",
              "      <td>3</td>\n",
              "      <td>2</td>\n",
              "      <td>3</td>\n",
              "      <td>7</td>\n",
              "      <td>5</td>\n",
              "      <td>8</td>\n",
              "      <td>3</td>\n",
              "      <td>5</td>\n",
              "      <td>2</td>\n",
              "      <td>...</td>\n",
              "      <td>0</td>\n",
              "      <td>0</td>\n",
              "      <td>0</td>\n",
              "      <td>0</td>\n",
              "      <td>0</td>\n",
              "      <td>0</td>\n",
              "      <td>0</td>\n",
              "      <td>0</td>\n",
              "      <td>0</td>\n",
              "      <td>0</td>\n",
              "    </tr>\n",
              "    <tr>\n",
              "      <th>TX</th>\n",
              "      <td>0</td>\n",
              "      <td>1</td>\n",
              "      <td>2</td>\n",
              "      <td>2</td>\n",
              "      <td>0</td>\n",
              "      <td>4</td>\n",
              "      <td>0</td>\n",
              "      <td>0</td>\n",
              "      <td>4</td>\n",
              "      <td>3</td>\n",
              "      <td>...</td>\n",
              "      <td>0</td>\n",
              "      <td>0</td>\n",
              "      <td>0</td>\n",
              "      <td>0</td>\n",
              "      <td>0</td>\n",
              "      <td>0</td>\n",
              "      <td>0</td>\n",
              "      <td>0</td>\n",
              "      <td>0</td>\n",
              "      <td>0</td>\n",
              "    </tr>\n",
              "    <tr>\n",
              "      <th>WI</th>\n",
              "      <td>0</td>\n",
              "      <td>2</td>\n",
              "      <td>0</td>\n",
              "      <td>1</td>\n",
              "      <td>0</td>\n",
              "      <td>9</td>\n",
              "      <td>2</td>\n",
              "      <td>1</td>\n",
              "      <td>2</td>\n",
              "      <td>5</td>\n",
              "      <td>...</td>\n",
              "      <td>0</td>\n",
              "      <td>0</td>\n",
              "      <td>0</td>\n",
              "      <td>0</td>\n",
              "      <td>0</td>\n",
              "      <td>0</td>\n",
              "      <td>0</td>\n",
              "      <td>0</td>\n",
              "      <td>0</td>\n",
              "      <td>0</td>\n",
              "    </tr>\n",
              "    <tr>\n",
              "      <th rowspan=\"2\" valign=\"top\">FOODS_1_002</th>\n",
              "      <th>CA</th>\n",
              "      <td>3</td>\n",
              "      <td>3</td>\n",
              "      <td>4</td>\n",
              "      <td>4</td>\n",
              "      <td>3</td>\n",
              "      <td>3</td>\n",
              "      <td>0</td>\n",
              "      <td>2</td>\n",
              "      <td>1</td>\n",
              "      <td>1</td>\n",
              "      <td>...</td>\n",
              "      <td>0</td>\n",
              "      <td>0</td>\n",
              "      <td>0</td>\n",
              "      <td>0</td>\n",
              "      <td>0</td>\n",
              "      <td>0</td>\n",
              "      <td>0</td>\n",
              "      <td>0</td>\n",
              "      <td>0</td>\n",
              "      <td>0</td>\n",
              "    </tr>\n",
              "    <tr>\n",
              "      <th>TX</th>\n",
              "      <td>0</td>\n",
              "      <td>0</td>\n",
              "      <td>2</td>\n",
              "      <td>0</td>\n",
              "      <td>0</td>\n",
              "      <td>0</td>\n",
              "      <td>0</td>\n",
              "      <td>1</td>\n",
              "      <td>0</td>\n",
              "      <td>0</td>\n",
              "      <td>...</td>\n",
              "      <td>0</td>\n",
              "      <td>0</td>\n",
              "      <td>0</td>\n",
              "      <td>0</td>\n",
              "      <td>0</td>\n",
              "      <td>0</td>\n",
              "      <td>0</td>\n",
              "      <td>0</td>\n",
              "      <td>0</td>\n",
              "      <td>0</td>\n",
              "    </tr>\n",
              "    <tr>\n",
              "      <th>...</th>\n",
              "      <th>...</th>\n",
              "      <td>...</td>\n",
              "      <td>...</td>\n",
              "      <td>...</td>\n",
              "      <td>...</td>\n",
              "      <td>...</td>\n",
              "      <td>...</td>\n",
              "      <td>...</td>\n",
              "      <td>...</td>\n",
              "      <td>...</td>\n",
              "      <td>...</td>\n",
              "      <td>...</td>\n",
              "      <td>...</td>\n",
              "      <td>...</td>\n",
              "      <td>...</td>\n",
              "      <td>...</td>\n",
              "      <td>...</td>\n",
              "      <td>...</td>\n",
              "      <td>...</td>\n",
              "      <td>...</td>\n",
              "      <td>...</td>\n",
              "      <td>...</td>\n",
              "    </tr>\n",
              "    <tr>\n",
              "      <th rowspan=\"2\" valign=\"top\">HOUSEHOLD_2_515</th>\n",
              "      <th>TX</th>\n",
              "      <td>0</td>\n",
              "      <td>0</td>\n",
              "      <td>0</td>\n",
              "      <td>0</td>\n",
              "      <td>0</td>\n",
              "      <td>0</td>\n",
              "      <td>0</td>\n",
              "      <td>0</td>\n",
              "      <td>0</td>\n",
              "      <td>0</td>\n",
              "      <td>...</td>\n",
              "      <td>0</td>\n",
              "      <td>0</td>\n",
              "      <td>0</td>\n",
              "      <td>0</td>\n",
              "      <td>0</td>\n",
              "      <td>0</td>\n",
              "      <td>0</td>\n",
              "      <td>0</td>\n",
              "      <td>0</td>\n",
              "      <td>0</td>\n",
              "    </tr>\n",
              "    <tr>\n",
              "      <th>WI</th>\n",
              "      <td>0</td>\n",
              "      <td>0</td>\n",
              "      <td>0</td>\n",
              "      <td>0</td>\n",
              "      <td>0</td>\n",
              "      <td>0</td>\n",
              "      <td>0</td>\n",
              "      <td>0</td>\n",
              "      <td>0</td>\n",
              "      <td>0</td>\n",
              "      <td>...</td>\n",
              "      <td>0</td>\n",
              "      <td>0</td>\n",
              "      <td>0</td>\n",
              "      <td>0</td>\n",
              "      <td>0</td>\n",
              "      <td>0</td>\n",
              "      <td>0</td>\n",
              "      <td>0</td>\n",
              "      <td>0</td>\n",
              "      <td>0</td>\n",
              "    </tr>\n",
              "    <tr>\n",
              "      <th rowspan=\"3\" valign=\"top\">HOUSEHOLD_2_516</th>\n",
              "      <th>CA</th>\n",
              "      <td>0</td>\n",
              "      <td>2</td>\n",
              "      <td>0</td>\n",
              "      <td>1</td>\n",
              "      <td>1</td>\n",
              "      <td>1</td>\n",
              "      <td>0</td>\n",
              "      <td>2</td>\n",
              "      <td>1</td>\n",
              "      <td>2</td>\n",
              "      <td>...</td>\n",
              "      <td>0</td>\n",
              "      <td>0</td>\n",
              "      <td>0</td>\n",
              "      <td>0</td>\n",
              "      <td>0</td>\n",
              "      <td>0</td>\n",
              "      <td>0</td>\n",
              "      <td>0</td>\n",
              "      <td>0</td>\n",
              "      <td>0</td>\n",
              "    </tr>\n",
              "    <tr>\n",
              "      <th>TX</th>\n",
              "      <td>2</td>\n",
              "      <td>1</td>\n",
              "      <td>0</td>\n",
              "      <td>0</td>\n",
              "      <td>0</td>\n",
              "      <td>0</td>\n",
              "      <td>1</td>\n",
              "      <td>1</td>\n",
              "      <td>0</td>\n",
              "      <td>0</td>\n",
              "      <td>...</td>\n",
              "      <td>0</td>\n",
              "      <td>0</td>\n",
              "      <td>0</td>\n",
              "      <td>0</td>\n",
              "      <td>0</td>\n",
              "      <td>0</td>\n",
              "      <td>0</td>\n",
              "      <td>0</td>\n",
              "      <td>0</td>\n",
              "      <td>0</td>\n",
              "    </tr>\n",
              "    <tr>\n",
              "      <th>WI</th>\n",
              "      <td>0</td>\n",
              "      <td>1</td>\n",
              "      <td>0</td>\n",
              "      <td>2</td>\n",
              "      <td>0</td>\n",
              "      <td>1</td>\n",
              "      <td>1</td>\n",
              "      <td>1</td>\n",
              "      <td>0</td>\n",
              "      <td>0</td>\n",
              "      <td>...</td>\n",
              "      <td>0</td>\n",
              "      <td>0</td>\n",
              "      <td>0</td>\n",
              "      <td>0</td>\n",
              "      <td>0</td>\n",
              "      <td>0</td>\n",
              "      <td>0</td>\n",
              "      <td>0</td>\n",
              "      <td>0</td>\n",
              "      <td>0</td>\n",
              "    </tr>\n",
              "  </tbody>\n",
              "</table>\n",
              "<p>9147 rows × 1942 columns</p>\n",
              "</div>"
            ]
          },
          "metadata": {
            "tags": []
          },
          "execution_count": 147
        }
      ]
    },
    {
      "cell_type": "code",
      "metadata": {
        "execution": {
          "iopub.status.busy": "2021-07-01T18:56:22.215824Z",
          "iopub.execute_input": "2021-07-01T18:56:22.216118Z",
          "iopub.status.idle": "2021-07-01T18:56:29.842207Z",
          "shell.execute_reply.started": "2021-07-01T18:56:22.216090Z",
          "shell.execute_reply": "2021-07-01T18:56:29.841135Z"
        },
        "trusted": true,
        "id": "crHF7QPvc3As",
        "outputId": "6ba1a852-86a5-40db-d7a9-8e2624f21715"
      },
      "source": [
        "for level in tqdm(level_groupings):\n",
        "    temp_df = df.groupby(by=level_groupings[level]).sum().reset_index(drop=True)\n",
        "    temp_df[\"level\"] = level\n",
        "    temp_df[\"weight\"] /= 12\n",
        "    agg_df = agg_df.append(temp_df[column_order])\n",
        "\n",
        "del temp_df"
      ],
      "execution_count": null,
      "outputs": [
        {
          "output_type": "stream",
          "text": [
            "100%|██████████| 10/10 [00:07<00:00,  1.31it/s]\n"
          ],
          "name": "stderr"
        }
      ]
    },
    {
      "cell_type": "code",
      "metadata": {
        "execution": {
          "iopub.status.busy": "2021-07-01T18:56:29.843701Z",
          "iopub.execute_input": "2021-07-01T18:56:29.844123Z",
          "iopub.status.idle": "2021-07-01T18:56:29.849988Z",
          "shell.execute_reply.started": "2021-07-01T18:56:29.844071Z",
          "shell.execute_reply": "2021-07-01T18:56:29.849162Z"
        },
        "trusted": true,
        "id": "S_ra13dic3Av"
      },
      "source": [
        "df[\"weight\"] /= 12"
      ],
      "execution_count": null,
      "outputs": []
    },
    {
      "cell_type": "code",
      "metadata": {
        "execution": {
          "iopub.status.busy": "2021-07-01T18:56:29.851403Z",
          "iopub.execute_input": "2021-07-01T18:56:29.852011Z",
          "iopub.status.idle": "2021-07-01T18:56:29.862817Z",
          "shell.execute_reply.started": "2021-07-01T18:56:29.851975Z",
          "shell.execute_reply": "2021-07-01T18:56:29.861910Z"
        },
        "trusted": true,
        "id": "PLp3qhNXc3Ax",
        "outputId": "86970987-8e80-4740-8804-d8588ce183f6"
      },
      "source": [
        "print(df.shape[0], agg_df.shape[0], df.shape[0] + agg_df.shape[0])"
      ],
      "execution_count": null,
      "outputs": [
        {
          "output_type": "stream",
          "text": [
            "30490 12350 42840\n"
          ],
          "name": "stdout"
        }
      ]
    },
    {
      "cell_type": "code",
      "metadata": {
        "execution": {
          "iopub.status.busy": "2021-07-01T18:56:29.863776Z",
          "iopub.execute_input": "2021-07-01T18:56:29.864055Z",
          "iopub.status.idle": "2021-07-01T18:56:29.877412Z",
          "shell.execute_reply.started": "2021-07-01T18:56:29.864031Z",
          "shell.execute_reply": "2021-07-01T18:56:29.876426Z"
        },
        "trusted": true,
        "id": "49oSCuDmc3Az",
        "outputId": "241d401e-89ab-4305-bc24-a43527945c27"
      },
      "source": [
        "agg_df[\"weight\"].sum() + df[\"weight\"].sum()"
      ],
      "execution_count": null,
      "outputs": [
        {
          "output_type": "execute_result",
          "data": {
            "text/plain": [
              "0.9999999999999996"
            ]
          },
          "metadata": {
            "tags": []
          },
          "execution_count": 151
        }
      ]
    },
    {
      "cell_type": "code",
      "metadata": {
        "execution": {
          "iopub.status.busy": "2021-07-01T18:56:29.878883Z",
          "iopub.execute_input": "2021-07-01T18:56:29.879246Z",
          "iopub.status.idle": "2021-07-01T18:56:29.888094Z",
          "shell.execute_reply.started": "2021-07-01T18:56:29.879216Z",
          "shell.execute_reply": "2021-07-01T18:56:29.886905Z"
        },
        "trusted": true,
        "id": "QEz-zDcXc3A1"
      },
      "source": [
        "\n",
        "\n",
        "h = 28\n",
        "n = 1885\n",
        "def rmsse(ground_truth, forecast, train_series, axis=1):\n",
        "    # assuming input are numpy array or matrices\n",
        "    assert axis == 0 or axis == 1\n",
        "    assert type(ground_truth) == np.ndarray and type(forecast) == np.ndarray and type(train_series) == np.ndarray\n",
        "    \n",
        "    if axis == 1:\n",
        "        # using axis == 1 we must guarantee these are matrices and not arrays\n",
        "        assert ground_truth.shape[1] > 1 and forecast.shape[1] > 1 and train_series.shape[1] > 1\n",
        "    \n",
        "    numerator = ((ground_truth - forecast)**2).sum(axis=axis)\n",
        "    if axis == 1:\n",
        "        denominator = 1/(n-1) * ((train_series[:, 1:] - train_series[:, :-1]) ** 2).sum(axis=axis)\n",
        "    else:\n",
        "        denominator = 1/(n-1) * ((train_series[1:] - train_series[:-1]) ** 2).sum(axis=axis)\n",
        "    return (1/h * numerator/denominator) ** 0.5\n",
        "\n"
      ],
      "execution_count": null,
      "outputs": []
    },
    {
      "cell_type": "code",
      "metadata": {
        "execution": {
          "iopub.status.busy": "2021-07-01T18:56:29.889779Z",
          "iopub.execute_input": "2021-07-01T18:56:29.890309Z",
          "iopub.status.idle": "2021-07-01T18:56:29.902145Z",
          "shell.execute_reply.started": "2021-07-01T18:56:29.890269Z",
          "shell.execute_reply": "2021-07-01T18:56:29.901201Z"
        },
        "trusted": true,
        "id": "fX4pvXP4c3A2"
      },
      "source": [
        "train_series_cols = [c for c in df.columns if c.find(\"d_\") == 0][:-28]\n",
        "ground_truth_cols = [c for c in df.columns if c.find(\"d_\") == 0][-28:]\n",
        "forecast_cols = [c for c in df.columns if c.find(\"F_\") == 0]"
      ],
      "execution_count": null,
      "outputs": []
    },
    {
      "cell_type": "code",
      "metadata": {
        "execution": {
          "iopub.status.busy": "2021-07-01T18:56:29.903602Z",
          "iopub.execute_input": "2021-07-01T18:56:29.904027Z",
          "iopub.status.idle": "2021-07-01T18:56:30.840450Z",
          "shell.execute_reply.started": "2021-07-01T18:56:29.903985Z",
          "shell.execute_reply": "2021-07-01T18:56:30.839782Z"
        },
        "trusted": true,
        "id": "kPphkAZ7c3A3"
      },
      "source": [
        "df[\"rmsse\"] = rmsse(np.array(df[ground_truth_cols]), \n",
        "                   np.array(df[forecast_cols]), np.array(df[train_series_cols]))\n",
        "agg_df[\"rmsse\"] = rmsse(np.array(agg_df[ground_truth_cols]), \n",
        "                   np.array(agg_df[forecast_cols]), np.array(agg_df[train_series_cols]))"
      ],
      "execution_count": null,
      "outputs": []
    },
    {
      "cell_type": "code",
      "metadata": {
        "execution": {
          "iopub.status.busy": "2021-07-01T18:56:30.841448Z",
          "iopub.execute_input": "2021-07-01T18:56:30.841877Z",
          "iopub.status.idle": "2021-07-01T18:56:30.845135Z",
          "shell.execute_reply.started": "2021-07-01T18:56:30.841825Z",
          "shell.execute_reply": "2021-07-01T18:56:30.844362Z"
        },
        "trusted": true,
        "id": "eQVLXVM_c3A8"
      },
      "source": [
        "\n",
        "\n",
        "# for row_idx in range(len(df)):\n",
        "#     row_df = pd.DataFrame(df.iloc[row_idx]).transpose()\n",
        "#     train_series = np.array(row_df[train_series_cols].transpose()[row_idx])\n",
        "#     ground_truth_series = np.array(row_df[ground_truth_cols].transpose()[row_idx])\n",
        "#     forecast_series = np.array(row_df[forecast_cols].transpose()[row_idx])\n",
        "#     print(rmsse(ground_truth_series, forecast_series, train_series, axis=0))\n",
        "\n"
      ],
      "execution_count": null,
      "outputs": []
    },
    {
      "cell_type": "code",
      "metadata": {
        "execution": {
          "iopub.status.busy": "2021-07-01T18:56:30.846209Z",
          "iopub.execute_input": "2021-07-01T18:56:30.846603Z",
          "iopub.status.idle": "2021-07-01T18:56:30.862121Z",
          "shell.execute_reply.started": "2021-07-01T18:56:30.846564Z",
          "shell.execute_reply": "2021-07-01T18:56:30.861078Z"
        },
        "trusted": true,
        "id": "LAtJCLU4c3A-"
      },
      "source": [
        "df[\"wrmsse\"] = df[\"weight\"] * df[\"rmsse\"]\n",
        "agg_df[\"wrmsse\"] = agg_df[\"weight\"] * agg_df[\"rmsse\"]"
      ],
      "execution_count": null,
      "outputs": []
    },
    {
      "cell_type": "code",
      "metadata": {
        "execution": {
          "iopub.status.busy": "2021-07-01T18:56:30.863465Z",
          "iopub.execute_input": "2021-07-01T18:56:30.864001Z",
          "iopub.status.idle": "2021-07-01T18:56:30.874704Z",
          "shell.execute_reply.started": "2021-07-01T18:56:30.863964Z",
          "shell.execute_reply": "2021-07-01T18:56:30.873444Z"
        },
        "trusted": true,
        "id": "cv0JPCrYc3BA",
        "outputId": "2f151894-7123-441c-9217-cdad3aa40e94"
      },
      "source": [
        "df[\"wrmsse\"].sum() + agg_df[\"wrmsse\"].sum()"
      ],
      "execution_count": null,
      "outputs": [
        {
          "output_type": "execute_result",
          "data": {
            "text/plain": [
              "5.35979273095658"
            ]
          },
          "metadata": {
            "tags": []
          },
          "execution_count": 157
        }
      ]
    }
  ]
}